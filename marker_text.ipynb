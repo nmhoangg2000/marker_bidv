{
 "cells": [
  {
   "cell_type": "code",
   "execution_count": 1,
   "metadata": {},
   "outputs": [],
   "source": [
    "import os\n",
    "import markdown2\n",
    "from bs4 import BeautifulSoup"
   ]
  },
  {
   "cell_type": "code",
   "execution_count": 2,
   "metadata": {},
   "outputs": [],
   "source": [
    "def markdown_file_to_text(file_path):\n",
    "    try:\n",
    "        with open(file_path, 'r', encoding='utf-8') as file:\n",
    "            markdown_content = file.read()\n",
    "        \n",
    "        html_content = markdown2.markdown(markdown_content)\n",
    "        soup = BeautifulSoup(html_content, \"html.parser\")\n",
    "        text = soup.get_text()\n",
    "        \n",
    "        return text\n",
    "    except Exception as e:\n",
    "        return f\"Error: {e}\""
   ]
  },
  {
   "cell_type": "code",
   "execution_count": 3,
   "metadata": {},
   "outputs": [],
   "source": [
    "def convert_pdf_to_text(pdf_path, output_folder):\n",
    "    # Convert PDF to Markdown\n",
    "    os.system(f\"marker_single {pdf_path} {output_folder} --batch_multiplier 2 --max_pages 10 --langs vi\")\n",
    "    # os.system(f\"marker {pdf_path} {output_folder} --workers 10 --max 10 --min_length 10000\")\n",
    "    # os.system(f\"surya_ocr {pdf_path} --results_dir {output_folder} --images --langs vi, en\")\n",
    "    \n",
    "    # Construct the name of the expected new subfolder\n",
    "    pdf_basename = os.path.splitext(os.path.basename(pdf_path))[0]\n",
    "    new_output_folder = os.path.join(output_folder, pdf_basename)\n",
    "\n",
    "    # Check if the new subfolder exists\n",
    "    if not os.path.exists(new_output_folder):\n",
    "        print(f\"Error: The expected output folder {new_output_folder} does not exist.\")\n",
    "        return\n",
    "    \n",
    "    # Convert Markdown to Plain Text\n",
    "    md_filename = os.path.join(new_output_folder,  pdf_basename + \".md\")\n",
    "    \n",
    "    # Check if the Markdown file exists\n",
    "    if not os.path.exists(md_filename):\n",
    "        print(f\"Error: The Markdown file {md_filename} does not exist after conversion.\")\n",
    "        return\n",
    "    \n",
    "    print(f\"Markdown file created at: {md_filename}\")\n",
    "    \n",
    "    plain_text = markdown_file_to_text(md_filename)\n",
    "    print(plain_text)\n",
    "    \n",
    "    # Save the plain text to a file\n",
    "    txt_filename = os.path.join(new_output_folder, pdf_basename + \".txt\")\n",
    "    with open(txt_filename, 'w', encoding='utf-8') as text_file:\n",
    "        text_file.write(plain_text)\n",
    "    \n",
    "    print(f\"Plain text file saved to {txt_filename}\")"
   ]
  },
  {
   "cell_type": "code",
   "execution_count": 6,
   "metadata": {},
   "outputs": [
    {
     "name": "stdout",
     "output_type": "stream",
     "text": [
      "Loaded detection model vikp/surya_det2 on device cpu with dtype torch.float32\n",
      "Loaded detection model vikp/surya_layout2 on device cpu with dtype torch.float32\n",
      "Loaded reading order model vikp/surya_order on device mps with dtype torch.float16\n",
      "Loaded recognition model vikp/surya_rec on device mps with dtype torch.float16\n",
      "Loaded texify model to mps with torch.float16 dtype\n"
     ]
    },
    {
     "name": "stderr",
     "output_type": "stream",
     "text": [
      "Detecting bboxes: 100%|██████████| 1/1 [00:04<00:00,  4.36s/it]\n",
      "Recognizing Text: 100%|██████████| 1/1 [00:18<00:00, 18.19s/it]\n",
      "Detecting bboxes: 100%|██████████| 1/1 [00:02<00:00,  2.77s/it]\n",
      "Finding reading order: 100%|██████████| 1/1 [00:02<00:00,  2.57s/it]\n"
     ]
    },
    {
     "name": "stdout",
     "output_type": "stream",
     "text": [
      "Saved markdown to the /Users/nguyenhoang/Documents/ThienCaoBa/e1 folder\n",
      "Markdown file created at: /Users/nguyenhoang/Documents/ThienCaoBa/e1/e1.md\n",
      "CONG HOA XA HOI CHU NGHLA VIET NAT\n",
      "Noi, ugm: 10 thaug 05 nom SAN TO CHUC SAN CHOI VIOLYMPIC\n",
      "\n",
      "\n",
      "\n",
      "heo OD so: 680/24/QD - FPT I\n",
      "Ino so khen thumng:FIS\n",
      "i\n",
      "\n",
      "Plain text file saved to /Users/nguyenhoang/Documents/ThienCaoBa/e1/e1.txt\n"
     ]
    }
   ],
   "source": [
    "# Usage example\n",
    "pdf_path = r\"/Users/nguyenhoang/Documents/ThienCaoBa/e1.pdf\"\n",
    "output_folder =r\"/Users/nguyenhoang/Documents/ThienCaoBa\"\n",
    "convert_pdf_to_text(pdf_path, output_folder)"
   ]
  }
 ],
 "metadata": {
  "kernelspec": {
   "display_name": "hoang",
   "language": "python",
   "name": "python3"
  },
  "language_info": {
   "codemirror_mode": {
    "name": "ipython",
    "version": 3
   },
   "file_extension": ".py",
   "mimetype": "text/x-python",
   "name": "python",
   "nbconvert_exporter": "python",
   "pygments_lexer": "ipython3",
   "version": "3.1.undefined"
  }
 },
 "nbformat": 4,
 "nbformat_minor": 2
}
